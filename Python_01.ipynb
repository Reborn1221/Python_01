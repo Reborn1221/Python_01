{
 "cells": [
  {
   "cell_type": "markdown",
   "metadata": {},
   "source": [
    "### Contenido de python\n",
    "*variables\n",
    "*errores tipicos\n",
    "*operadores matematicos basicos \n",
    "*Operadores de comparacion\n",
    "*Estructura de control\n",
    "    -Condicionales\n",
    "    -Ciclos Finitos\n",
    "    -Ciclos infinitos\n",
    "    -funciones\n",
    "*Estructuras de datos\n",
    "    -Cadenas de caracteres\n",
    "    -Numeros Enteros\n",
    "    -numeros flotantes\n",
    "    -listas\n",
    "    -Diccionarios\n",
    "    -Tuplas\n",
    "\n",
    "Referencia: El libro de python:"
   ]
  },
  {
   "cell_type": "code",
   "execution_count": 26,
   "metadata": {},
   "outputs": [
    {
     "name": "stdout",
     "output_type": "stream",
     "text": [
      "Hola mundo\n"
     ]
    }
   ],
   "source": [
    "print(\"Hola mundo\")"
   ]
  },
  {
   "cell_type": "code",
   "execution_count": 27,
   "metadata": {},
   "outputs": [
    {
     "ename": "SyntaxError",
     "evalue": "invalid syntax (637284456.py, line 4)",
     "output_type": "error",
     "traceback": [
      "\u001b[1;36m  Cell \u001b[1;32mIn[27], line 4\u001b[1;36m\u001b[0m\n\u001b[1;33m    name \"Sebas\"\u001b[0m\n\u001b[1;37m         ^\u001b[0m\n\u001b[1;31mSyntaxError\u001b[0m\u001b[1;31m:\u001b[0m invalid syntax\n"
     ]
    }
   ],
   "source": [
    "#Variables \n",
    "\n",
    "number = 12\n",
    "name \"Sebas\"\n",
    "number2 = 34.66\n"
   ]
  },
  {
   "cell_type": "code",
   "execution_count": 3,
   "metadata": {},
   "outputs": [
    {
     "ename": "SyntaxError",
     "evalue": "cannot assign to expression here. Maybe you meant '==' instead of '='? (3895592138.py, line 5)",
     "output_type": "error",
     "traceback": [
      "\u001b[1;36m  Cell \u001b[1;32mIn[3], line 5\u001b[1;36m\u001b[0m\n\u001b[1;33m    Number-Two = 12\u001b[0m\n\u001b[1;37m    ^\u001b[0m\n\u001b[1;31mSyntaxError\u001b[0m\u001b[1;31m:\u001b[0m cannot assign to expression here. Maybe you meant '==' instead of '='?\n"
     ]
    }
   ],
   "source": [
    "#Cosas que no se deben hacer\n",
    "\n",
    "Number = 3\n",
    "NumberTwo = 12\n",
    "Number-Two = 12"
   ]
  },
  {
   "cell_type": "code",
   "execution_count": 4,
   "metadata": {},
   "outputs": [
    {
     "ename": "NameError",
     "evalue": "name 'Number' is not defined",
     "output_type": "error",
     "traceback": [
      "\u001b[1;31m---------------------------------------------------------------------------\u001b[0m",
      "\u001b[1;31mNameError\u001b[0m                                 Traceback (most recent call last)",
      "Cell \u001b[1;32mIn[4], line 1\u001b[0m\n\u001b[1;32m----> 1\u001b[0m \u001b[43mNumber\u001b[49m\u001b[38;5;241m.\u001b[39mTwo \u001b[38;5;241m=\u001b[39m \u001b[38;5;241m21\u001b[39m\n",
      "\u001b[1;31mNameError\u001b[0m: name 'Number' is not defined"
     ]
    }
   ],
   "source": [
    "Number.Two = 21"
   ]
  },
  {
   "cell_type": "code",
   "execution_count": 7,
   "metadata": {},
   "outputs": [],
   "source": [
    "number_one = 21\n",
    "number_two = 12"
   ]
  },
  {
   "cell_type": "code",
   "execution_count": 8,
   "metadata": {},
   "outputs": [
    {
     "data": {
      "text/plain": [
       "12"
      ]
     },
     "execution_count": 8,
     "metadata": {},
     "output_type": "execute_result"
    }
   ],
   "source": [
    "number_one\n",
    "number_two"
   ]
  },
  {
   "cell_type": "code",
   "execution_count": 16,
   "metadata": {},
   "outputs": [
    {
     "name": "stdout",
     "output_type": "stream",
     "text": [
      "Numero uno: 21\n",
      "Numero dos: 12\n"
     ]
    }
   ],
   "source": [
    "print(\"Numero uno:\" ,number_one)\n",
    "print(\"Numero dos:\" ,number_two)"
   ]
  },
  {
   "cell_type": "code",
   "execution_count": 18,
   "metadata": {},
   "outputs": [
    {
     "name": "stdout",
     "output_type": "stream",
     "text": [
      "El resultado de la suma es: 33\n",
      "El resultado de la resta es: 9\n",
      "El resultado de la multiplicacion es: 252\n",
      "El resultado de la division es: 1.75\n"
     ]
    }
   ],
   "source": [
    "#Operadores Matematicos\n",
    "\n",
    "#Suma\n",
    "result_suma = number_one + number_two\n",
    "print(\"El resultado de la suma es:\", result_suma)\n",
    "\n",
    "#Resta\n",
    "result_sub = number_one - number_two\n",
    "print(\"El resultado de la resta es:\", result_sub) \n",
    "\n",
    "#Multiplicacion\n",
    "result_multi = number_one * number_two\n",
    "print(\"El resultado de la multiplicacion es:\", result_multi)\n",
    "\n",
    "#Division\n",
    "result_div = number_one / number_two\n",
    "print(\"El resultado de la division es:\", result_div)"
   ]
  },
  {
   "cell_type": "code",
   "execution_count": 23,
   "metadata": {},
   "outputs": [
    {
     "ename": "NameError",
     "evalue": "name 'name' is not defined",
     "output_type": "error",
     "traceback": [
      "\u001b[1;31m---------------------------------------------------------------------------\u001b[0m",
      "\u001b[1;31mNameError\u001b[0m                                 Traceback (most recent call last)",
      "Cell \u001b[1;32mIn[23], line 1\u001b[0m\n\u001b[1;32m----> 1\u001b[0m \u001b[38;5;28mtype\u001b[39m(\u001b[43mname\u001b[49m)\n\u001b[0;32m      2\u001b[0m \u001b[38;5;28mtype\u001b[39m(number_one)\n\u001b[0;32m      3\u001b[0m \u001b[38;5;28mtype\u001b[39m(number_two)\n",
      "\u001b[1;31mNameError\u001b[0m: name 'name' is not defined"
     ]
    }
   ],
   "source": [
    "type(name)\n",
    "type(number_one)\n",
    "type(number_two)\n",
    "type(result_div)\n"
   ]
  },
  {
   "cell_type": "code",
   "execution_count": null,
   "metadata": {},
   "outputs": [],
   "source": [
    "# Operadores de comparacion\n",
    "# mayor que >\n",
    "# menor que <\n",
    "# mayor igual >=\n",
    "# menor igual <=\n",
    "# igual ==\n",
    "# diferente !="
   ]
  },
  {
   "cell_type": "code",
   "execution_count": 29,
   "metadata": {},
   "outputs": [
    {
     "name": "stdout",
     "output_type": "stream",
     "text": [
      "El numero uno es menor que numero dos\n"
     ]
    }
   ],
   "source": [
    "#Condicionales \n",
    "\n",
    "if number_one > number_two:\n",
    "    print(\"El numero uno es menor que numero dos\")\n"
   ]
  },
  {
   "cell_type": "code",
   "execution_count": 30,
   "metadata": {},
   "outputs": [
    {
     "name": "stdout",
     "output_type": "stream",
     "text": [
      "El numero uno 21, es manor que numero dos 12\n"
     ]
    }
   ],
   "source": [
    "#Condicionales \n",
    "\n",
    "if number_one > number_two:\n",
    "    print(f\"El numero uno {number_one}, es manor que numero dos {number_two}\")\n"
   ]
  },
  {
   "cell_type": "code",
   "execution_count": 32,
   "metadata": {},
   "outputs": [
    {
     "name": "stdout",
     "output_type": "stream",
     "text": [
      "El numero uno 21, es diferente que el numero dos 12\n"
     ]
    }
   ],
   "source": [
    "#Condicionales \n",
    "\n",
    "if number_one != number_two:\n",
    "    print(f\"El numero uno {number_one}, es diferente que el numero dos {number_two}\")"
   ]
  },
  {
   "cell_type": "code",
   "execution_count": 31,
   "metadata": {},
   "outputs": [
    {
     "name": "stdout",
     "output_type": "stream",
     "text": [
      "Los numeros son diferentes\n"
     ]
    }
   ],
   "source": [
    "#Condicionales \n",
    "\n",
    "if number_one == number_two:\n",
    "    print(f\"El numero uno {number_one}, es igual que el numero dos {number_two}\")\n",
    "else:\n",
    "    print(\"Los numeros son diferentes\")"
   ]
  },
  {
   "cell_type": "code",
   "execution_count": 40,
   "metadata": {},
   "outputs": [
    {
     "name": "stdout",
     "output_type": "stream",
     "text": [
      "Los numeros son diferentes\n"
     ]
    }
   ],
   "source": [
    "#Condicionales \n",
    "number_one = input(\"Ingrese el numero 1:\")\n",
    "number_one = float(number_one)\n",
    "\n",
    "number_one = float(input(\"Ingrese el numero 2:\"))\n",
    "\n",
    "if number_one == number_two:\n",
    "    print(f\"El numero uno {number_one}, es igual que el numero dos {number_two}\")\n",
    "else:\n",
    "    print(\"Los numeros son diferentes\")"
   ]
  },
  {
   "cell_type": "code",
   "execution_count": 35,
   "metadata": {},
   "outputs": [
    {
     "data": {
      "text/plain": [
       "int"
      ]
     },
     "execution_count": 35,
     "metadata": {},
     "output_type": "execute_result"
    }
   ],
   "source": [
    "#Todo lo que ingrese por teclado se tomara como cadena de caracteres\n",
    "type(number_one)\n",
    "type(number_two)"
   ]
  }
 ],
 "metadata": {
  "kernelspec": {
   "display_name": "Python 3",
   "language": "python",
   "name": "python3"
  },
  "language_info": {
   "codemirror_mode": {
    "name": "ipython",
    "version": 3
   },
   "file_extension": ".py",
   "mimetype": "text/x-python",
   "name": "python",
   "nbconvert_exporter": "python",
   "pygments_lexer": "ipython3",
   "version": "3.12.7"
  }
 },
 "nbformat": 4,
 "nbformat_minor": 2
}
