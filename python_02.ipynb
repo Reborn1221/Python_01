{
 "cells": [
  {
   "cell_type": "code",
   "execution_count": null,
   "metadata": {},
   "outputs": [],
   "source": [
    "# Condicionales\n",
    "\n",
    "num1 = int(input(\"Numero 1:\"))\n",
    "num2 = int(input(\"Numero 2:\"))\n",
    "\n",
    "if num1 > num2:\n",
    "    print(f\"El numero {num1} es mayor que el {num2}\")\n",
    "elif num1 == num2:\n",
    "    print(f\"Los dos numeros son iguales {num2}\")\n",
    "else:\n",
    "    print(f\"El numero {num1} es menor que el {num2}\")\n",
    " "
   ]
  },
  {
   "cell_type": "code",
   "execution_count": 4,
   "metadata": {},
   "outputs": [
    {
     "name": "stdout",
     "output_type": "stream",
     "text": [
      "El numero 20 es mayor que el 10 y es mayor que el nuemero 10\n"
     ]
    }
   ],
   "source": [
    "# Condicionales parte dos \n",
    "\n",
    "num1 = int(input(\"Numero 1:\"))\n",
    "num2 = int(input(\"Numero 2:\"))\n",
    "\n",
    "if num1 > num2:\n",
    "    if num1 > 10:\n",
    "        print(f\"El numero {num1} es mayor que el {num2} y es mayor que el numero 10\")\n",
    "elif num1 == num2:\n",
    "    if num1 > 10:\n",
    "        print(f\"Los dos numeros son iguales {num2}\")\n",
    "else:\n",
    "    print(f\"El numero {num1} es menor que el {num2}\")\n"
   ]
  },
  {
   "cell_type": "code",
   "execution_count": 6,
   "metadata": {},
   "outputs": [
    {
     "name": "stdout",
     "output_type": "stream",
     "text": [
      "Los dos numeros son iguales 11\n"
     ]
    }
   ],
   "source": [
    "# Condicionales parte tres\n",
    "\n",
    "num1 = int(input(\"Numero 1:\"))\n",
    "num2 = int(input(\"Numero 2:\"))\n",
    "\n",
    "if (num1 > num2) and (num1 > 10):\n",
    "        print(f\"El numero {num1} es mayor que el {num2} y es mayor que el numero 10\")\n",
    "\n",
    "elif (num1 == num2) and (num1 > 10):\n",
    "        print(f\"Los dos numeros son iguales {num2}\")\n",
    "        \n",
    "else:\n",
    "    print(f\"El numero {num1} es menor que el {num2}\")\n"
   ]
  },
  {
   "cell_type": "code",
   "execution_count": null,
   "metadata": {},
   "outputs": [],
   "source": [
    "# El operador logico \"And\" funciona asi\n",
    "# and / true = 1\n",
    "# True and True -> True\n",
    "#True and False ->false"
   ]
  },
  {
   "cell_type": "code",
   "execution_count": 9,
   "metadata": {},
   "outputs": [],
   "source": [
    "# Estructuras de datos: Listas\n",
    "list01 = [\"jesus\", \"juana\", \"pamela\",\"valentina\"]   "
   ]
  },
  {
   "cell_type": "code",
   "execution_count": null,
   "metadata": {},
   "outputs": [],
   "source": [
    "listnumber = [1, 2 ,3 4, 5]"
   ]
  },
  {
   "cell_type": "code",
   "execution_count": null,
   "metadata": {},
   "outputs": [],
   "source": [
    "# Estructuras de datos: Listas\n",
    "list01 = [\n",
    "    \"jesus\", \n",
    "    \"juana\", \n",
    "    \"pamela\",\n",
    "    \"valentina\"]   "
   ]
  },
  {
   "cell_type": "code",
   "execution_count": 10,
   "metadata": {},
   "outputs": [
    {
     "data": {
      "text/plain": [
       "['jesus', 'juana', 'pamela', 'valentina']"
      ]
     },
     "execution_count": 10,
     "metadata": {},
     "output_type": "execute_result"
    }
   ],
   "source": [
    "list01"
   ]
  },
  {
   "cell_type": "code",
   "execution_count": null,
   "metadata": {},
   "outputs": [],
   "source": [
    "# las listas tienen su indice de posicion de izquierda a derecha \n",
    "#            0         1       2         3\n",
    "list01 = [\"jesus\", \"juana\", \"pamela\",\"valentina\"]   "
   ]
  },
  {
   "cell_type": "code",
   "execution_count": 11,
   "metadata": {},
   "outputs": [
    {
     "data": {
      "text/plain": [
       "'juana'"
      ]
     },
     "execution_count": 11,
     "metadata": {},
     "output_type": "execute_result"
    }
   ],
   "source": [
    "list01[1]"
   ]
  },
  {
   "cell_type": "code",
   "execution_count": 12,
   "metadata": {},
   "outputs": [
    {
     "data": {
      "text/plain": [
       "'valentina'"
      ]
     },
     "execution_count": 12,
     "metadata": {},
     "output_type": "execute_result"
    }
   ],
   "source": [
    "list01[3]"
   ]
  },
  {
   "cell_type": "code",
   "execution_count": 13,
   "metadata": {},
   "outputs": [
    {
     "data": {
      "text/plain": [
       "['jesus', 'juana']"
      ]
     },
     "execution_count": 13,
     "metadata": {},
     "output_type": "execute_result"
    }
   ],
   "source": [
    "#name_list[star:stop+1]\n",
    "list01[0:2]\n"
   ]
  },
  {
   "cell_type": "code",
   "execution_count": 15,
   "metadata": {},
   "outputs": [
    {
     "data": {
      "text/plain": [
       "['jesus', 'juana', 'pamela']"
      ]
     },
     "execution_count": 15,
     "metadata": {},
     "output_type": "execute_result"
    }
   ],
   "source": [
    "list01[0:3]\n"
   ]
  },
  {
   "cell_type": "code",
   "execution_count": null,
   "metadata": {},
   "outputs": [],
   "source": [
    "# las listas tienen su indice de posicion de izquierda a derecha \n",
    "#            -3         -1       -2         -1\n",
    "list01 = [\"jesus\", \"juana\", \"pamela\",\"valentina\"]   "
   ]
  },
  {
   "cell_type": "code",
   "execution_count": null,
   "metadata": {},
   "outputs": [],
   "source": [
    "# las listas tienen su indice de posicion de izquierda a derecha \n",
    "#            0         1       2         3\n",
    "lista_name = [\"jesus\", \"jadsana\", \"pamasdla\",\"valentfadsna\"]   "
   ]
  },
  {
   "cell_type": "code",
   "execution_count": 16,
   "metadata": {},
   "outputs": [],
   "source": [
    "list01.append(\"sebas\")"
   ]
  },
  {
   "cell_type": "code",
   "execution_count": 17,
   "metadata": {},
   "outputs": [
    {
     "data": {
      "text/plain": [
       "['jesus', 'juana', 'pamela', 'valentina', 'sebas']"
      ]
     },
     "execution_count": 17,
     "metadata": {},
     "output_type": "execute_result"
    }
   ],
   "source": [
    "list01"
   ]
  },
  {
   "cell_type": "code",
   "execution_count": 19,
   "metadata": {},
   "outputs": [
    {
     "data": {
      "text/plain": [
       "5"
      ]
     },
     "execution_count": 19,
     "metadata": {},
     "output_type": "execute_result"
    }
   ],
   "source": [
    "len(list01)"
   ]
  },
  {
   "cell_type": "code",
   "execution_count": 20,
   "metadata": {},
   "outputs": [],
   "source": [
    "name = list01.copy()"
   ]
  },
  {
   "cell_type": "code",
   "execution_count": 21,
   "metadata": {},
   "outputs": [
    {
     "data": {
      "text/plain": [
       "['jesus', 'juana', 'pamela', 'valentina', 'sebas']"
      ]
     },
     "execution_count": 21,
     "metadata": {},
     "output_type": "execute_result"
    }
   ],
   "source": [
    "name"
   ]
  },
  {
   "cell_type": "code",
   "execution_count": 28,
   "metadata": {},
   "outputs": [
    {
     "name": "stdout",
     "output_type": "stream",
     "text": [
      "jesus\n",
      "juana\n",
      "pamela\n",
      "valentina\n",
      "sebas\n"
     ]
    }
   ],
   "source": [
    "# Ciclo finito for \n",
    "#for variable_iteracion in arreglos_datos:\n",
    "# Sentencias necesarias\n",
    "\n",
    "for iten in name:\n",
    "    print(iten)"
   ]
  },
  {
   "cell_type": "code",
   "execution_count": 27,
   "metadata": {},
   "outputs": [
    {
     "ename": "NameError",
     "evalue": "name 'names' is not defined",
     "output_type": "error",
     "traceback": [
      "\u001b[1;31m---------------------------------------------------------------------------\u001b[0m",
      "\u001b[1;31mNameError\u001b[0m                                 Traceback (most recent call last)",
      "Cell \u001b[1;32mIn[27], line 1\u001b[0m\n\u001b[1;32m----> 1\u001b[0m \u001b[38;5;28;01mfor\u001b[39;00m iten \u001b[38;5;129;01min\u001b[39;00m \u001b[38;5;28mlen\u001b[39m(\u001b[43mnames\u001b[49m):\n\u001b[0;32m      2\u001b[0m     \u001b[38;5;28mprint\u001b[39m(iten)\n",
      "\u001b[1;31mNameError\u001b[0m: name 'names' is not defined"
     ]
    }
   ],
   "source": [
    "for iten in len(names):\n",
    "    print(iten)"
   ]
  },
  {
   "cell_type": "code",
   "execution_count": 26,
   "metadata": {},
   "outputs": [
    {
     "name": "stdout",
     "output_type": "stream",
     "text": [
      "0\n",
      "1\n",
      "2\n"
     ]
    }
   ],
   "source": [
    "for item in range(3):\n",
    "    print(item)"
   ]
  },
  {
   "cell_type": "code",
   "execution_count": 33,
   "metadata": {},
   "outputs": [],
   "source": [
    "name_x = input(\"Ingrese su nombre:\")\n",
    "for iten in range(len(name)):\n",
    "    if name[item] == name_x: \n",
    "        print(f'Encontre a \"{name_x}\" en la posicion \"{item}\" en la posicion iten de esta lista')\n",
    "    break\n",
    "\n",
    "        #print(f'El nombre \"{name_x}\" no se encuentra en la lista')"
   ]
  },
  {
   "cell_type": "code",
   "execution_count": null,
   "metadata": {},
   "outputs": [],
   "source": [
    "#listas "
   ]
  }
 ],
 "metadata": {
  "kernelspec": {
   "display_name": "Python 3",
   "language": "python",
   "name": "python3"
  },
  "language_info": {
   "codemirror_mode": {
    "name": "ipython",
    "version": 3
   },
   "file_extension": ".py",
   "mimetype": "text/x-python",
   "name": "python",
   "nbconvert_exporter": "python",
   "pygments_lexer": "ipython3",
   "version": "3.12.7"
  }
 },
 "nbformat": 4,
 "nbformat_minor": 2
}
